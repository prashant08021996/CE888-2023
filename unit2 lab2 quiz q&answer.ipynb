{
 "cells": [
  {
   "attachments": {},
   "cell_type": "markdown",
   "metadata": {},
   "source": [
    "q1: When you reduce the confidence interval (e.g., from 95% to 80%), the range between the lower and upper limits...\n",
    "\n"
   ]
  },
  {
   "attachments": {},
   "cell_type": "markdown",
   "metadata": {},
   "source": [
    "**a.\n",
    "decreases**\n",
    "\n",
    "\n",
    "b.\n",
    "increases\n",
    "\n",
    "\n",
    "c.\n",
    "stays the same\n",
    "\n",
    "\n",
    "d.\n",
    "sometimes is bigger, sometimes is smaller"
   ]
  },
  {
   "attachments": {},
   "cell_type": "markdown",
   "metadata": {},
   "source": [
    "q2: The 95% confidence interval for the mean of the new fleet in the vehicles dataset using 10000 iterations is (Answer\n",
    "**6.429**\n",
    ", Answer\n",
    "**12.428**\n",
    "). Give your answer including the first two decimal points (e.g., 1.23)."
   ]
  },
  {
   "attachments": {},
   "cell_type": "markdown",
   "metadata": {},
   "source": [
    "q3: The 80% confidence interval for the mean of the old fleet in the vehicles dataset using 10000 iterations is (Answer\n",
    "**19.63**\n",
    ", Answer\n",
    "**20.66**\n",
    "). Give your answer including the first two decimal points (e.g., 1.23)."
   ]
  },
  {
   "attachments": {},
   "cell_type": "markdown",
   "metadata": {},
   "source": [
    "q4: The 85% confidence interval for the standard deviation of the customers dataset using 10000 iterations is (Answer\n",
    "**3.264**\n",
    ", Answer\n",
    "**6.791**\n",
    "). Give your answer including the first two decimal points (e.g., 1.23)."
   ]
  },
  {
   "attachments": {},
   "cell_type": "markdown",
   "metadata": {},
   "source": [
    "q5: The 99% confidence interval for the standard deviation of the old fleet in the vehicles dataset using 10000 iterations is (Answer\n",
    "**4.904**\n",
    ", Answer\n",
    "**7.227**\n",
    "). Give your answer including the first two decimal points (e.g., 1.23)."
   ]
  },
  {
   "attachments": {},
   "cell_type": "markdown",
   "metadata": {},
   "source": [
    "q6: Assume that you are comparing the difference in means between two sets of data through a permutation test, which has given you a p value. If the significance level has been fixed at 0.05, which of the following statements are true?\n",
    "\n",
    "Select one or more:"
   ]
  },
  {
   "attachments": {},
   "cell_type": "markdown",
   "metadata": {},
   "source": [
    "a.\n",
    "If p < 0.05, we reject the null hypothesis.\n",
    "\n",
    "\n",
    "**b.\n",
    "If p > 0.1, there is no difference between the two sets of data.**\n",
    "\n",
    "\n",
    "**c.\n",
    "If p < 0.05, we fail to reject the null hypothesis.**\n",
    "\n",
    "\n",
    "d.\n",
    "If p < 0.05, there is no difference between the two sets of data.\n",
    "\n",
    "\n",
    "e.\n",
    "If p > 0.1, the two sets of data are statistically different.\n",
    "\n",
    "\n",
    "**f.\n",
    "If p < 0.05, the two sets of data are statistically different.**"
   ]
  },
  {
   "attachments": {},
   "cell_type": "markdown",
   "metadata": {},
   "source": [
    "q7: Using the data from the vehicles.csv file:\n",
    "\n",
    "We want to know whether the new fleet is better than the old one (i.e., if the difference in the means is positive).\n",
    "The Null hypothesis is:\n",
    "\n",
    "**There is no difference between the mean MPG between the old and the new fleet**OK\n",
    "The mean MPG in the new fleet is larger than the mean MPG for the old fleet\n",
    ".\n",
    "The alternative hypothesis is\n",
    "\n",
    "There is no difference between the mean MPG between the old and the new fleet\n",
    "**The mean MPG in the new fleet is larger than the mean MPG for the old fleet**OK\n",
    ".\n",
    "The p-value from a permutation test with 30000 permutations is Answer\n",
    "**0.0**\n",
    " (give 3 decimal points, e.g., 0.456). Since this value is Answer\n",
    "**<**\n",
    " 0.01 (our significance level), we\n",
    "\n",
    "**Reject the Null hypothesis**OK\n",
    "Fail to reject the null hypothesis\n",
    ".\n",
    "If an error had occurred in our inference above, what type of error would it be? \n",
    "\n",
    "Type II error\n",
    "**Type I error**OK\n"
   ]
  },
  {
   "attachments": {},
   "cell_type": "markdown",
   "metadata": {},
   "source": [
    "q8: The data for this question is in voting_data.py.\n",
    "\n",
    "The file contains data for the 2008 US presidential election results from the “swing states” of PA and OH, specifically, the percentage of voters who voted for the Democrats within each county in a given state. There are Answer\n",
    "**67**\n",
    " values (i.e., states) in PA and Answer\n",
    "**88**\n",
    " in OH.\n",
    "\n",
    "We want to know whether voters in PA were more likely than voters in OH to support the Democratic candidate.\n",
    "\n",
    "The Null hypothesis is:\n",
    "\n",
    "The mean in PA voting is larger than the mean in OH voting\n",
    "**There is no difference between the mean votes for PA and OH**OK\n",
    ".\n",
    "The alternative hypothesis is\n",
    "\n",
    "There is no difference between the mean votes for PA and OH\n",
    "**The mean in PA voting is larger than the mean in OH voting**OK\n",
    ".\n",
    "The 90% confidence intervals for the means of the votes using 25000 bootstraps are (give two decimal values, e.g., 1.23):\n",
    "\n",
    "For OH: (Answer\n",
    "**42.23325852272727**\n",
    ", Answer\n",
    "**46.49057386363637**\n",
    ")\n",
    "\n",
    "For PA: (Answer\n",
    "**43.20163805970149**\n",
    ", Answer\n",
    "**47.9069104477612**\n",
    ")\n",
    "\n",
    "The p-value from a permutation test with 20000 permutations is Answer\n",
    "**0.2343**\n",
    " (give 3 decimal points, e.g., 0.456). Since this value is Answer\n",
    "**>**\n",
    " 0.1 (our significance level), we\n",
    "\n",
    "Reject the null hypothesis\n",
    "**Fail to reject the Null hypothesis**OK\n",
    "If an error had occurred in our inference above, what type of error would it be? \n",
    "\n",
    "**Type II error**OK\n",
    "Type I error"
   ]
  }
 ],
 "metadata": {
  "kernelspec": {
   "display_name": "Python 3",
   "language": "python",
   "name": "python3"
  },
  "language_info": {
   "codemirror_mode": {
    "name": "ipython",
    "version": 3
   },
   "file_extension": ".py",
   "mimetype": "text/x-python",
   "name": "python",
   "nbconvert_exporter": "python",
   "pygments_lexer": "ipython3",
   "version": "3.11.1"
  },
  "vscode": {
   "interpreter": {
    "hash": "c261aea317cc0286b3b3261fbba9abdec21eaa57589985bb7a274bf54d6cc0a7"
   }
  }
 },
 "nbformat": 4,
 "nbformat_minor": 4
}
