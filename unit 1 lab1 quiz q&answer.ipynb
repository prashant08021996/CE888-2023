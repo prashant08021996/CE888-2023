{
 "cells": [
  {
   "attachments": {},
   "cell_type": "markdown",
   "metadata": {},
   "source": [
    "q1: Write a function list_to_array that receives a list as a function and returns the list converted into a numpy array"
   ]
  },
  {
   "cell_type": "code",
   "execution_count": null,
   "metadata": {},
   "outputs": [],
   "source": [
    "import numpy as np\n",
    "\n",
    "def list_to_array(input_list):\n",
    "    ## Your code goes here\n",
    "    return np.array(input_list)"
   ]
  },
  {
   "attachments": {},
   "cell_type": "markdown",
   "metadata": {},
   "source": [
    "q2: Using numpy, write a function called 'median', which takes an array or list of numbers as input and calculates their median.\n",
    "\n"
   ]
  },
  {
   "cell_type": "code",
   "execution_count": null,
   "metadata": {},
   "outputs": [],
   "source": [
    "import numpy as np\n",
    "\n",
    "def median(numbers):\n",
    "    ## Your code goes here\n",
    "    \n",
    "    return np.median(numbers, axis=None, out=None, overwrite_input=False, keepdims=False)"
   ]
  },
  {
   "attachments": {},
   "cell_type": "markdown",
   "metadata": {},
   "source": [
    "q3: Using numpy, write a function called 'percentile', which takes as input an array or list of numbers and a number between 0-100 (the percentile that the user wants to calculate) and returns the percentile.\n",
    "\n"
   ]
  },
  {
   "cell_type": "code",
   "execution_count": null,
   "metadata": {},
   "outputs": [],
   "source": [
    "import numpy as np\n",
    "\n",
    "def percentile(numbers, perc):\n",
    "    ## Your code goes here\n",
    "    return np.percentile(numbers, perc)\n",
    "\n",
    "    "
   ]
  },
  {
   "attachments": {},
   "cell_type": "markdown",
   "metadata": {},
   "source": [
    "q4: Using numpy, write a function called 'sorting_choice', which takes as input an array or list of numbers and a string (which should be either 'asc' or 'desc' for ascending/descending) and returns the same numbers sorted in ascending/descending order. The default value if no string is provided should be 'asc'.\n",
    "\n"
   ]
  },
  {
   "cell_type": "code",
   "execution_count": null,
   "metadata": {},
   "outputs": [],
   "source": [
    "import numpy as np\n",
    "\n",
    "def sorting_choice(myArray, order='asc'):\n",
    "    ## Your code goes here\n",
    "    if order == 'asc':\n",
    "        return np.sort(myArray)\n",
    "    elif order == 'desc':\n",
    "        return np.sort(myArray)[::-1]\n"
   ]
  },
  {
   "attachments": {},
   "cell_type": "markdown",
   "metadata": {},
   "source": [
    "q5: Using numpy, write a function called 'stdev_of_array_columns', which takes as input a 2D array of numbers and returns the column-wise standard deviations of the array.\n",
    "\n"
   ]
  },
  {
   "cell_type": "code",
   "execution_count": null,
   "metadata": {},
   "outputs": [],
   "source": [
    "import numpy as np\n",
    "\n",
    "def stdev_of_array_columns(numbers):\n",
    "    ## Your code goes here\n",
    "    return np.std(numbers, axis=0)"
   ]
  },
  {
   "attachments": {},
   "cell_type": "markdown",
   "metadata": {},
   "source": [
    "q6: Using numpy, write a function called 'stdev_array_rows', which takes as input a 2D array of numbers and returns the row-wise standard deviations of the array.\n",
    "\n"
   ]
  },
  {
   "cell_type": "code",
   "execution_count": null,
   "metadata": {},
   "outputs": [],
   "source": [
    "import numpy as np\n",
    "\n",
    "def stdev_array_rows(numbers):\n",
    "    ## Your code goes here\n",
    "    \n",
    "    return np.std(numbers, axis=1)"
   ]
  },
  {
   "attachments": {},
   "cell_type": "markdown",
   "metadata": {},
   "source": [
    "q7: We're going to use numpy to generate random numbers. Check the documentation for numpy.random.choice() to complete the functions below.\n",
    "\n",
    "NOTE: it's important that you pass the parameters to np.random.choice in order. For example, if the instructions say 'return A with probability A1 and B with probability B1', you should pass the arguments to np.random.choice as np.random.choice([A, B], p=[A1, B1]) to be marked correctly.\n",
    "\n"
   ]
  },
  {
   "cell_type": "code",
   "execution_count": null,
   "metadata": {},
   "outputs": [],
   "source": [
    "import numpy as np\n",
    "\n",
    "# Define our actions\n",
    "\n",
    "def action_0():\n",
    "    ''' This should return 1 with probability 50%, and 0 with probability 50%'''\n",
    "    ## Your code here\n",
    "    return np.random.choice([1,0], size=None, replace=True, p=[0.5, 0.5])\n",
    "def action_1():\n",
    "    ''' This should return 1 with probability 60%, and 0 with probability 40%'''\n",
    "    ## Your code here\n",
    "    return np.random.choice([1,0], size=None, replace=True, p=[0.6, 0.4])\n",
    "def action_2():\n",
    "    ''' This should return 1 with probability 20%, and 0 with probability 80%'''\n",
    "    ## Your code here\n",
    "    return np.random.choice([1,0], size=None, replace=True, p=[0.2, 0.8])"
   ]
  },
  {
   "attachments": {},
   "cell_type": "markdown",
   "metadata": {},
   "source": [
    "q8:We're going to use numpy to generate random numbers. Check the documentation for numpy.random.choice() to complete the functions below.\n",
    "\n",
    "NOTE: it's important that you pass the parameters to np.random.choice in order. For example, if the instructions say 'return A with probability A1 and B with probability B1', you should pass the arguments to np.random.choice as np.random.choice([A, B], p=[A1, B1]) to be marked correctly.\n",
    "\n"
   ]
  },
  {
   "cell_type": "code",
   "execution_count": null,
   "metadata": {},
   "outputs": [],
   "source": [
    "import numpy as np\n",
    "\n",
    "# Define our actions\n",
    "\n",
    "def policy():\n",
    "    ''' This should return -1 with probability 80%; 0 with probability 10%; or 1 with probability 10% '''\n",
    "    ## Your code here\n",
    "    return np.random.choice([-1, 0, 1], p=[0.8, 0.1, 0.1])\n"
   ]
  },
  {
   "attachments": {},
   "cell_type": "markdown",
   "metadata": {},
   "source": [
    "q9: We're going to use numpy to generate random numbers. Check the documentation for numpy.random.choice() to complete the functions below.\n",
    "\n",
    "NOTE: it's important that you pass the parameters to np.random.choice in order. For example, if the instructions say 'return A with probability A1 and B with probability B1', you should pass the arguments to np.random.choice as np.random.choice([A, B], p=[A1, B1]) to be marked correctly.\n",
    "\n"
   ]
  },
  {
   "cell_type": "code",
   "execution_count": null,
   "metadata": {},
   "outputs": [],
   "source": [
    "import numpy as np\n",
    "\n",
    "\n",
    "def policy(p1, p2, p3, p4=0.5):\n",
    "    # p1, p2, p3 are, respectively, the probabilities of choosing between 1, 2, and 3\n",
    "    # the default value for p4 should be 0.5\n",
    "    # action equals 1 with probability p1, 2 with probability p2, and 3 with probability p3\n",
    "    action = np.random.choice([1, 2, 3], p=[p1, p2, p3]) # Your code here\n",
    "    # Depending on the value of 'action', we choose one of the following options:\n",
    "    # if action is 1: return action1()\n",
    "    # if action is 2: return action2()\n",
    "    # if action is 3: make a choice between returning action1() (with probability p4) or action2()\n",
    "    #   i.e.: return action1() with probability p4, and action2() otherwise\n",
    "\n",
    "    ## YOUR CODE HERE\n",
    "    if action == 1:\n",
    "        return action1()\n",
    "    elif action == 2:\n",
    "        return action2()\n",
    "    elif action == 3:\n",
    "        return np.random.choice([action2], p=[p4-1, p4])()\n",
    "\n",
    "\n",
    "def action1(p=0.2):\n",
    "    # Return 0 with probability p and 1 otherwise\n",
    "    # the default value for p should be 0.2\n",
    "    \n",
    "    ## YOUR CODE HERE\n",
    "    return np.random.choice([0, 1], p=[p, 1-p])\n",
    "\n",
    "def action2(p=0.9):\n",
    "    # Return 3 with probability p and -5 otherwise\n",
    "    # the default value for p should be 0.9\n",
    "    \n",
    "    ## YOUR CODE HERE\n",
    "    return np.random.choice([3, -5], p=[p, 1-p])\n"
   ]
  }
 ],
 "metadata": {
  "kernelspec": {
   "display_name": "base",
   "language": "python",
   "name": "python3"
  },
  "language_info": {
   "codemirror_mode": {
    "name": "ipython",
    "version": 3
   },
   "file_extension": ".py",
   "mimetype": "text/x-python",
   "name": "python",
   "nbconvert_exporter": "python",
   "pygments_lexer": "ipython3",
   "version": "3.9.12"
  },
  "vscode": {
   "interpreter": {
    "hash": "e087b9ba50a93ecab8ad35ed173faa3feaf959a2302efce8d34a6016c5852694"
   }
  }
 },
 "nbformat": 4,
 "nbformat_minor": 4
}
